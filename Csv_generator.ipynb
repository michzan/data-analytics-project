{
 "cells": [
  {
   "cell_type": "code",
   "execution_count": 1,
   "metadata": {},
   "outputs": [],
   "source": [
    "import pandas as pd\n",
    "import numpy as np\n",
    "import seaborn as sns"
   ]
  },
  {
   "cell_type": "code",
   "execution_count": 2,
   "metadata": {},
   "outputs": [],
   "source": [
    "movies = pd.read_csv('./ml-25m/movies.csv', sep=',')\n",
    "genome_tags = pd.read_csv('./ml-25m/genome-tags.csv', sep=',')\n",
    "genome_scores = pd.read_csv('./ml-25m/genome-scores.csv', sep=',')\n",
    "tags = pd.read_csv('./ml-25m/tags.csv', sep=',').drop('timestamp', axis=1)\n",
    "ratings = pd.read_csv('./ml-25m/ratings.csv', sep=',').drop('timestamp', axis=1)"
   ]
  },
  {
   "cell_type": "code",
   "execution_count": 3,
   "metadata": {},
   "outputs": [
    {
     "data": {
      "text/plain": [
       "<AxesSubplot:xlabel='rating', ylabel='Count'>"
      ]
     },
     "execution_count": 3,
     "metadata": {},
     "output_type": "execute_result"
    },
    {
     "data": {
      "image/png": "[encoded data removed]",
      "text/plain": [
       "<Figure size 432x288 with 1 Axes>"
      ]
     },
     "metadata": {
      "needs_background": "light"
     },
     "output_type": "display_data"
    }
   ],
   "source": [
    "sns.histplot(ratings['rating'])"
   ]
  },
  {
   "cell_type": "code",
   "execution_count": 4,
   "metadata": {},
   "outputs": [
    {
     "name": "stderr",
     "output_type": "stream",
     "text": [
      "<ipython-input-4-35f8ec8f8bb8>:12: SettingWithCopyWarning: \n",
      "A value is trying to be set on a copy of a slice from a DataFrame\n",
      "\n",
      "See the caveats in the documentation: https://pandas.pydata.org/pandas-docs/stable/user_guide/indexing.html#returning-a-view-versus-a-copy\n",
      "  movies[x][i]=1\n"
     ]
    }
   ],
   "source": [
    "genres=[]\n",
    "for i in range(len(movies.genres)):\n",
    "    for x in movies.genres[i].split('|'):\n",
    "        if x not in genres:\n",
    "            genres.append(x)  \n",
    "\n",
    "len(genres)\n",
    "for x in genres:\n",
    "    movies[x] = 0\n",
    "for i in range(len(movies.genres)):\n",
    "    for x in movies.genres[i].split('|'):\n",
    "        movies[x][i]=1"
   ]
  },
  {
   "cell_type": "code",
   "execution_count": 5,
   "metadata": {},
   "outputs": [],
   "source": [
    "movies.drop(columns='genres',  inplace=True)\n",
    "movies.sort_index(inplace=True)"
   ]
  },
  {
   "cell_type": "code",
   "execution_count": 7,
   "metadata": {},
   "outputs": [],
   "source": [
    "movies.to_csv('./csv_genereted/movies_genre.csv', index = False)"
   ]
  },
  {
   "cell_type": "code",
   "execution_count": 8,
   "metadata": {},
   "outputs": [],
   "source": [
    "rating_mean = ratings.groupby(['movieId']).mean()"
   ]
  },
  {
   "cell_type": "code",
   "execution_count": 9,
   "metadata": {},
   "outputs": [],
   "source": [
    "rating_mean = rating_mean.drop(columns=['userId'])"
   ]
  },
  {
   "cell_type": "code",
   "execution_count": 10,
   "metadata": {},
   "outputs": [],
   "source": [
    "rating_mean.to_csv('./csv_genereted/mean_rating.csv', index = True)"
   ]
  },
  {
   "cell_type": "code",
   "execution_count": 11,
   "metadata": {},
   "outputs": [],
   "source": [
    "movieIds = genome_scores.groupby('movieId')"
   ]
  },
  {
   "cell_type": "code",
   "execution_count": 12,
   "metadata": {},
   "outputs": [],
   "source": [
    "tag_columns = []\n",
    "for  i in range(len(genome_tags)):\n",
    "    tag_columns.append(genome_tags.iloc[i, 0])"
   ]
  },
  {
   "cell_type": "code",
   "execution_count": 13,
   "metadata": {},
   "outputs": [],
   "source": [
    "tag_relevance_movies = pd.DataFrame({\n",
    "    'movieId': movieIds.groups.keys()\n",
    "})\n",
    "\n",
    "y = len(tag_relevance_movies.columns)\n",
    "for i in range(len(tag_columns)):\n",
    "    tag_relevance_movies.insert(y, tag_columns[i], \"\")\n",
    "    y += 1"
   ]
  },
  {
   "cell_type": "code",
   "execution_count": 14,
   "metadata": {},
   "outputs": [],
   "source": [
    "for i in range(len(tag_relevance_movies.movieId)):\n",
    "    x = movieIds.get_group(tag_relevance_movies.iloc[i, 0])\n",
    "    z = np.array(x.relevance)\n",
    "    tag_relevance_movies.iloc[i, 1:] = z[:]"
   ]
  },
  {
   "cell_type": "code",
   "execution_count": null,
   "metadata": {},
   "outputs": [],
   "source": [
    "tag_relevance_movies.to_csv('./csv_genereted/movies_tag_relevance.csv', index=False)"
   ]
  }
 ],
 "metadata": {
  "kernelspec": {
   "display_name": "Python 3",
   "language": "python",
   "name": "python3"
  },
  "language_info": {
   "codemirror_mode": {
    "name": "ipython",
    "version": 3
   },
   "file_extension": ".py",
   "mimetype": "text/x-python",
   "name": "python",
   "nbconvert_exporter": "python",
   "pygments_lexer": "ipython3",
   "version": "3.9.0"
  },
  "orig_nbformat": 4,
  "vscode": {
   "interpreter": {
    "hash": "0d591c6e422414675974e227c13f5382000c440fedd3c5006ef2be5d887f0ba7"
   }
  }
 },
 "nbformat": 4,
 "nbformat_minor": 2
}
